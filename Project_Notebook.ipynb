{
 "cells": [
  {
   "cell_type": "markdown",
   "metadata": {},
   "source": [
    "## TMDB Movies Data Analysis\n",
    "\n",
    "### Table of Contents\n",
    "<ul>\n",
    "<li><a href=\"#introduction\">Introduction</a></li>\n",
    "<li><a href=\"#Data_Assessment\">Data Assessment</a></li>\n",
    "<li><a href=\"#Data_Cleaning\">Data Cleaning</a></li>\n",
    "<li><a href=\"#Data_Analysis\">Data Analysis</a></li>\n",
    "<li><a href=\"#Conclusion\">Conclusion</a></li>\n",
    "</ul>"
   ]
  },
  {
   "cell_type": "markdown",
   "metadata": {},
   "source": [
    "<a id='intro'></a>\n",
    "### Introduction"
   ]
  },
  {
   "cell_type": "code",
   "execution_count": null,
   "metadata": {},
   "outputs": [],
   "source": [
    "#import libraries\n",
    "\n",
    "import numpy as np\n",
    "import pandas as pd\n",
    "import matplotlib.pyplot as plt"
   ]
  },
  {
   "cell_type": "code",
   "execution_count": null,
   "metadata": {},
   "outputs": [],
   "source": [
    "# Read movies data from the csv\n",
    "df_movies = pd.read_csv('tmdb-movies.csv')\n",
    "df_movies.head()"
   ]
  },
  {
   "cell_type": "markdown",
   "metadata": {},
   "source": [
    "<a id='Data_Assessment'></a>\n",
    "### Data Assessment"
   ]
  },
  {
   "cell_type": "code",
   "execution_count": null,
   "metadata": {},
   "outputs": [],
   "source": [
    "df_movies.info()"
   ]
  },
  {
   "cell_type": "markdown",
   "metadata": {},
   "source": [
    "There are an unequal number of non-null values across the columns in the dataset and some datatypes do not reflect the data in the column"
   ]
  },
  {
   "cell_type": "code",
   "execution_count": null,
   "metadata": {},
   "outputs": [],
   "source": [
    "#find number of rows and columns\n",
    "df_movies.shape"
   ]
  },
  {
   "cell_type": "code",
   "execution_count": null,
   "metadata": {},
   "outputs": [],
   "source": [
    "#check the datatypes of columns\n",
    "df_movies.dtypes"
   ]
  },
  {
   "cell_type": "code",
   "execution_count": null,
   "metadata": {},
   "outputs": [],
   "source": [
    "df_movies.describe()"
   ]
  },
  {
   "cell_type": "markdown",
   "metadata": {},
   "source": [
    "The minimum values and bottom quartile (25%) for Revenue, Budget, Revenue (Adjusted for Inflation) and  Budget (Adjusted for Inflation) are Zeros. It could be that these are unrecorded values."
   ]
  },
  {
   "cell_type": "code",
   "execution_count": null,
   "metadata": {},
   "outputs": [],
   "source": [
    "# Number of duplicated row\n",
    "df_movies.duplicated().sum()"
   ]
  },
  {
   "cell_type": "markdown",
   "metadata": {},
   "source": [
    "Duplicate values can alter the results of analysis. There is only one duplicate row and it would be dropped."
   ]
  },
  {
   "cell_type": "markdown",
   "metadata": {},
   "source": [
    "<a id='Data_Cleaning'></a>\n",
    "### Data Cleaning"
   ]
  },
  {
   "cell_type": "code",
   "execution_count": null,
   "metadata": {},
   "outputs": [],
   "source": [
    "# Drop the duplicated row and there are no duplicated rows after dropping\n",
    "\n",
    "df_movies.drop_duplicates(inplace=True)\n",
    "df_movies.duplicated().sum()"
   ]
  },
  {
   "cell_type": "code",
   "execution_count": null,
   "metadata": {},
   "outputs": [],
   "source": [
    "#change dtypes for release_date\n",
    "\n",
    "df_movies['release_date'] = pd.to_datetime(df_movies['release_date'])\n",
    "\n",
    "df_movies.dtypes"
   ]
  },
  {
   "cell_type": "markdown",
   "metadata": {},
   "source": [
    "The release_date column has an object datatype. This means Python will handle it as a string. Changing it to datetime would make it possible to use the year, month and days for analysis."
   ]
  },
  {
   "cell_type": "code",
   "execution_count": null,
   "metadata": {},
   "outputs": [],
   "source": [
    "# Drop the row with the NaN value and confirm if there are NaN values after dropping\n",
    "\n",
    "df_movies.dropna(inplace=True)\n",
    "df_movies.isnull().sum().sum()"
   ]
  },
  {
   "cell_type": "code",
   "execution_count": null,
   "metadata": {},
   "outputs": [],
   "source": [
    "df_movies.shape"
   ]
  },
  {
   "cell_type": "markdown",
   "metadata": {},
   "source": [
    "There is a significant reduction in the number of rows from 10866 to 1992. This indicates a large number of NaN values in the dataset."
   ]
  },
  {
   "cell_type": "markdown",
   "metadata": {},
   "source": [
    "##### >> Handling Values With Zero\n",
    "While it is possible for Revenue to be Zero, Budget cannot be zero. Hence, rows where Budget is zero wil be treated carefully. However, Budget adjusted will be used to drop rows not the Budget column. This is because, the Budget for each movie are assessed based on the currency for value for a singular year when Adjusted for Inflation."
   ]
  },
  {
   "cell_type": "code",
   "execution_count": null,
   "metadata": {},
   "outputs": [],
   "source": [
    "#Drop rows where revenue is zero as these values cannot be used in analysis.\n",
    "\n",
    "df_movies.drop(df_movies.index[df_movies['budget_adj'] == 0], inplace=True)"
   ]
  },
  {
   "cell_type": "code",
   "execution_count": null,
   "metadata": {},
   "outputs": [],
   "source": [
    "df_movies.shape"
   ]
  },
  {
   "cell_type": "markdown",
   "metadata": {},
   "source": [
    "The number of rows shrinks further when rows where movie budget is zero are dropped from 1992 to 1446."
   ]
  },
  {
   "cell_type": "code",
   "execution_count": null,
   "metadata": {},
   "outputs": [],
   "source": [
    "df_movies.describe()"
   ]
  },
  {
   "cell_type": "markdown",
   "metadata": {},
   "source": [
    "Looking at the min values and bottom quartile (25%) values for Budget (Adjusted), they are no longer zeros."
   ]
  },
  {
   "cell_type": "markdown",
   "metadata": {},
   "source": [
    "(10866, 21)"
   ]
  },
  {
   "cell_type": "code",
   "execution_count": null,
   "metadata": {},
   "outputs": [],
   "source": [
    "#Drop columns that would not be used in analysis\n",
    "\n",
    "df_movies.drop(['id', 'popularity', 'cast', 'homepage', 'tagline', 'keywords', 'overview', 'runtime', 'vote_count', 'vote_average'], axis = 1, inplace = True)\n",
    "\n",
    "df_movies.columns"
   ]
  },
  {
   "cell_type": "markdown",
   "metadata": {},
   "source": [
    "<a id='Data_Analysis'></a>\n",
    "### Data Analysis\n",
    "\n",
    "\n",
    "#### Is There A Relationship Between Movie Budgets & Revenue?"
   ]
  },
  {
   "cell_type": "markdown",
   "metadata": {},
   "source": [
    "To understand whether or not there is a relationship between Movie Budgets and Revenue, only columns relevant to the question will be used. The budget and revenue adjusted for inflation are the columns that are best suited to compare each movie's revenue and budget"
   ]
  },
  {
   "cell_type": "code",
   "execution_count": null,
   "metadata": {},
   "outputs": [],
   "source": [
    "#Create Plot Function for 1d Explorations\n",
    "\n",
    "def plot1(df, col):\n",
    "    '''\n",
    "    The function returns a Histogram with values in the column passed\n",
    "            Parameters:\n",
    "                    df = Dataframe with relevant column\n",
    "                    col (str) = column in Dataframe to be plotted\n",
    "            Returns:\n",
    "                    Chart : Plotted based on input parameters\n",
    "        '''\n",
    "    df[col].hist(grid = False, bins = 30, figsize = [10, 10]);"
   ]
  },
  {
   "cell_type": "code",
   "execution_count": null,
   "metadata": {},
   "outputs": [],
   "source": [
    "#call function to plot graph for Budget(Adjusted)\n",
    "\n",
    "plot1(df_movies, col ='budget_adj')"
   ]
  },
  {
   "cell_type": "code",
   "execution_count": null,
   "metadata": {},
   "outputs": [],
   "source": [
    "#call function to plot graph for Revenue(Adjusted)\n",
    "\n",
    "plot1(df_movies, col ='revenue_adj')"
   ]
  },
  {
   "cell_type": "markdown",
   "metadata": {},
   "source": [
    "The two charts for Revenue and Budget (both adjusted) have some similarities in their chart trends from left to right."
   ]
  },
  {
   "cell_type": "code",
   "execution_count": null,
   "metadata": {},
   "outputs": [],
   "source": [
    "#create function to plot chart for analysis of relationship\n",
    "def data_plot(df, x , y, title, col1, col2, invert = 'Yes', kind = 'bar'):\n",
    "    '''\n",
    "    Returns a Chart plotted with two columns.\n",
    "\n",
    "            Parameters:\n",
    "                    df = Dataframe with relevant columns\n",
    "                    x (str) = Column name for x axis\n",
    "                    y (str) = Column name for y axis\n",
    "                    invert (str) = Default Yes\n",
    "                    kind (chart) = Chart type. Default is Bar\n",
    "                    col1 (str) = x-axis column label\n",
    "                    col2 (str) = y-axis column label\n",
    "            Returns:\n",
    "                    Chart : Plotted based on input parameters    \n",
    "    '''\n",
    "\n",
    "    #plot chart\n",
    "        df.plot(x, y, kind, figsize = (10,10))\n",
    "\n",
    "    #set title and column labels\n",
    "    plt.title(title,fontsize = 15)\n",
    "    plt.xlabel(col1,fontsize = 15)\n",
    "    plt.ylabel(col2,fontsize = 15);\n",
    "\n",
    "    #invert x-axis to order from highest to lowest\n",
    "    if invert == 'Yes':\n",
    "        plt.gca().invert_xaxis()"
   ]
  },
  {
   "cell_type": "code",
   "execution_count": null,
   "metadata": {},
   "outputs": [],
   "source": [
    "#call function to plot graph of Budget Against Revenue\n",
    "\n",
    "data_plot(df_movies, x = 'revenue_adj', y = 'budget_adj', invert = 'No', kind = 'scatter', \n",
    "            title = 'Correlation Between Budget & Revenue Adjusted For Inflation', \n",
    "            col1 = 'Revenue', col2 = 'Budget')"
   ]
  },
  {
   "cell_type": "markdown",
   "metadata": {},
   "source": [
    "The Movie Budget and Revenue plot shows some correlation but there are quite a number of outliers. This could be because of their release year, genre, cast or a number of other features."
   ]
  },
  {
   "cell_type": "markdown",
   "metadata": {},
   "source": [
    "#### Which Movies Had The Highest Revenue?"
   ]
  },
  {
   "cell_type": "code",
   "execution_count": null,
   "metadata": {},
   "outputs": [],
   "source": [
    "#create Function that sorts for top values and plots a chart\n",
    "def top_val(df, col, top = 10):\n",
    "    ''' \n",
    "    Sorts Dataframe base on a column and returns a Bar Chart plotted with two columns.\n",
    "\n",
    "            Parameters:\n",
    "                    df = Dataframe with relevant columns\n",
    "                    col = Column for x axis\n",
    "                    top = number of rows to be returned\n",
    "\n",
    "            Returns:\n",
    "                    Chart : Bar Chart with top 10 values\n",
    "    '''\n",
    "\n",
    "    #data preparation\n",
    "    data = df.sort_values(by = col).tail(top).set_index('original_title')[col]\n",
    "\n",
    "    #plot graph\n",
    "    col = col.replace(\"_\", \" \")\n",
    "    data.plot(kind = 'bar', figsize = (10,10))\n",
    "    plt.title(f'Which Movies Have The Highest {col}',fontsize = 15)\n",
    "    plt.xlabel(\"Movies\",fontsize = 15)\n",
    "    plt.ylabel(col, fontsize = 15)\n",
    "    plt.gca().invert_xaxis()    "
   ]
  },
  {
   "cell_type": "code",
   "execution_count": null,
   "metadata": {},
   "outputs": [],
   "source": [
    "#plot bar chart with top 10 movies by Revenue\n",
    "top_val(df_movies, col = 'revenue_adj')"
   ]
  },
  {
   "cell_type": "markdown",
   "metadata": {},
   "source": [
    "For these movies, their revenue figures do not have huge disparities between them. The decrease is steady from left to right with with minimal differences between each successive movie."
   ]
  },
  {
   "cell_type": "markdown",
   "metadata": {},
   "source": [
    "#### Which Movies Had The Highest Budget?"
   ]
  },
  {
   "cell_type": "code",
   "execution_count": null,
   "metadata": {},
   "outputs": [],
   "source": [
    "#plot bar chart with top 10 movies by Budget\n",
    "top_val(df_movies, col = 'budget_adj')"
   ]
  },
  {
   "cell_type": "markdown",
   "metadata": {},
   "source": [
    "Save for the top three movies, the remaining movies in the top 10 have very close values.\n",
    "\n",
    "The movies with the highest budgets are not the same as the movies with the highest revenues. Very few movies are in both.\n",
    "\n",
    "There are movies which are part of a Film Franchise in the List of each other in the list:\n",
    "\n",
    "Pirates of The Caribbean Film Franchise\n",
    "- Pirates of the Caribbean: On Stranger Tides\n",
    "- Pirates of the Caribbean: At World's End\n",
    "\n",
    "Harry Potter Film Franchise\n",
    "- Harry Potter and the Half-Blood Prince\n",
    "- Harry Potter and the Deathly Hallows: Part 1\n",
    "\n",
    "Each of the franchises have their movies following each other in the chart"
   ]
  },
  {
   "cell_type": "markdown",
   "metadata": {},
   "source": [
    "#### Which Years Had The Most Movies?"
   ]
  },
  {
   "cell_type": "code",
   "execution_count": null,
   "metadata": {},
   "outputs": [],
   "source": [
    "#plot bar chart to display movie count for each year\n",
    "df_movies['release_year'].sort_index().value_counts().plot(kind = 'bar', figsize = (13,13));"
   ]
  },
  {
   "cell_type": "markdown",
   "metadata": {},
   "source": [
    "From the chart, 2011 had the highest number of movies while 1961 had the lowest"
   ]
  },
  {
   "cell_type": "markdown",
   "metadata": {},
   "source": [
    "#### Which Directors Worked On The Most Expensive Movies?"
   ]
  },
  {
   "cell_type": "code",
   "execution_count": null,
   "metadata": {},
   "outputs": [],
   "source": [
    "#list of most expensive movies and directors in ascending order\n",
    "df_movies[['director', 'budget_adj', 'original_title']].sort_values('budget_adj', ascending=False).head(10)"
   ]
  },
  {
   "cell_type": "markdown",
   "metadata": {},
   "source": [
    "David Yates is the only Director with more than one movie amongst the top 10 movies by Budget. The two movies are part of the same film franchise."
   ]
  },
  {
   "cell_type": "markdown",
   "metadata": {},
   "source": [
    "<a id='Conclusion'></a>\n",
    "### Conclusion"
   ]
  },
  {
   "cell_type": "markdown",
   "metadata": {},
   "source": [
    "While Revenue and Budget have some correlation, the top movies by budget and revenue do not entirely overlap. This indicates that it is possible for movies to have huge budgets and not have huge revenue. The same applies in the reverse.\n",
    "\n",
    "The dataset is a sample dataset and does not contain data of all movies ever produced so drawing conclusions based on the results will not be accurate. For example, the highest grossing movie in the dataset might not actually be the highest grossing movie globally.\n",
    "\n",
    "Like with many sample datasets, the data has inconsistencies; missing values, zero as value in unexpected columns, incorrect datatypes etc."
   ]
  },
  {
   "cell_type": "markdown",
   "metadata": {},
   "source": [
    "### References"
   ]
  },
  {
   "cell_type": "markdown",
   "metadata": {},
   "source": [
    "https://datascienceparichay.com/article/pandas-delete-rows-based-on-column-values/\n",
    "\n",
    "https://statology.org/matplotlib-reverse-axis/\n",
    "\n",
    "https://stackoverflow.com/questions/12680754/split-explode-pandas-dataframe-string-entry-to-separate-rows\n",
    "\n",
    "https://www.statology.org/pandas-sort-alphabetically/\n",
    "\n",
    "https://www.programiz.com/python-programming/docstrings"
   ]
  }
 ],
 "metadata": {
  "interpreter": {
   "hash": "9fda3a921d2d1a515c3a4a9ac959fbb24955cc0e36b15330f42c41a8603bd9c0"
  },
  "kernelspec": {
   "display_name": "Python 3.8.8 ('base')",
   "language": "python",
   "name": "python3"
  },
  "language_info": {
   "codemirror_mode": {
    "name": "ipython",
    "version": 3
   },
   "file_extension": ".py",
   "mimetype": "text/x-python",
   "name": "python",
   "nbconvert_exporter": "python",
   "pygments_lexer": "ipython3",
   "version": "3.8.8"
  },
  "orig_nbformat": 4
 },
 "nbformat": 4,
 "nbformat_minor": 2
}
